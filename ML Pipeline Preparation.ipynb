{
 "cells": [
  {
   "cell_type": "markdown",
   "metadata": {},
   "source": [
    "# ML Pipeline Preparation\n",
    "Follow the instructions below to help you create your ML pipeline.\n",
    "### 1. Import libraries and load data from database.\n",
    "- Import Python libraries\n",
    "- Load dataset from database with [`read_sql_table`](https://pandas.pydata.org/pandas-docs/stable/generated/pandas.read_sql_table.html)\n",
    "- Define feature and target variables X and Y"
   ]
  },
  {
   "cell_type": "code",
   "execution_count": 102,
   "metadata": {},
   "outputs": [
    {
     "name": "stdout",
     "output_type": "stream",
     "text": [
      "[nltk_data] Downloading package punkt to /root/nltk_data...\n",
      "[nltk_data]   Package punkt is already up-to-date!\n",
      "[nltk_data] Downloading package stopwords to /root/nltk_data...\n",
      "[nltk_data]   Package stopwords is already up-to-date!\n",
      "[nltk_data] Downloading package wordnet to /root/nltk_data...\n",
      "[nltk_data]   Package wordnet is already up-to-date!\n",
      "[nltk_data] Downloading package averaged_perceptron_tagger to\n",
      "[nltk_data]     /root/nltk_data...\n",
      "[nltk_data]   Package averaged_perceptron_tagger is already up-to-\n",
      "[nltk_data]       date!\n"
     ]
    },
    {
     "data": {
      "text/plain": [
       "True"
      ]
     },
     "execution_count": 102,
     "metadata": {},
     "output_type": "execute_result"
    }
   ],
   "source": [
    "# import libraries\n",
    "import re\n",
    "import pickle\n",
    "import nltk\n",
    "import pandas as pd\n",
    "from nltk.tokenize import word_tokenize, sent_tokenize\n",
    "from nltk.stem import WordNetLemmatizer\n",
    "from nltk.corpus import stopwords\n",
    "from sqlalchemy import create_engine\n",
    "from sklearn.model_selection import train_test_split, GridSearchCV\n",
    "from sklearn.feature_extraction.text import CountVectorizer, TfidfTransformer\n",
    "from sklearn.ensemble import RandomForestClassifier\n",
    "from sklearn.pipeline import Pipeline, FeatureUnion\n",
    "from sklearn.multioutput import MultiOutputClassifier\n",
    "from sklearn.metrics import classification_report\n",
    "from sklearn.neighbors import KNeighborsClassifier\n",
    "from sklearn.base import BaseEstimator, TransformerMixin\n",
    "from sklearn.linear_model import LogisticRegression\n",
    "\n",
    "nltk.download('punkt')\n",
    "nltk.download('stopwords')\n",
    "nltk.download('wordnet')\n",
    "nltk.download('averaged_perceptron_tagger')"
   ]
  },
  {
   "cell_type": "code",
   "execution_count": 2,
   "metadata": {},
   "outputs": [],
   "source": [
    "# load data from database\n",
    "engine = create_engine('sqlite:///message_categories.db')\n",
    "df = pd.read_sql('SELECT * FROM message_categories', engine)\n",
    "X = df.loc[:, 'message']\n",
    "Y = df.loc[:, 'related':'direct_report']"
   ]
  },
  {
   "cell_type": "markdown",
   "metadata": {},
   "source": [
    "### 2. Write a tokenization function to process your text data"
   ]
  },
  {
   "cell_type": "code",
   "execution_count": 3,
   "metadata": {},
   "outputs": [
    {
     "data": {
      "text/plain": [
       "'Weather update - a cold front from Cuba that could pass over Haiti'"
      ]
     },
     "execution_count": 3,
     "metadata": {},
     "output_type": "execute_result"
    }
   ],
   "source": [
    "X.iloc[0]"
   ]
  },
  {
   "cell_type": "code",
   "execution_count": 4,
   "metadata": {},
   "outputs": [],
   "source": [
    "lemmatizer = WordNetLemmatizer()\n",
    "def tokenize(text):\n",
    "    '''Tokenize textual data to be processed by TFIDF vectorizers\n",
    "    \n",
    "        params:\n",
    "            text - a string of textual data\n",
    "        returns:\n",
    "            clean_tokens - tokens from text\n",
    "    '''\n",
    "    text = re.sub(r'[^a-zA-Z0-9]', ' ', text)\n",
    "    clean_tokens = list()\n",
    "    tokens = word_tokenize(text)\n",
    "    \n",
    "    removed_stopwords = [token for token in tokens if token not in stopwords.words('english')]\n",
    "    \n",
    "    clean_tokens = [lemmatizer.lemmatize(word, pos='v').lower().strip() for word in removed_stopwords]\n",
    "    clean_tokens = [lemmatizer.lemmatize(token, pos='n').lower().strip() for token in clean_tokens]\n",
    "    return clean_tokens"
   ]
  },
  {
   "cell_type": "code",
   "execution_count": 5,
   "metadata": {},
   "outputs": [
    {
     "name": "stdout",
     "output_type": "stream",
     "text": [
      "['weather', 'update', 'cold', 'front', 'cuba', 'could', 'pas', 'haiti']\n",
      "['is', 'hurricane']\n",
      "['looking', 'someone', 'name']\n",
      "['un', 'report', 'leogane', '80', '90', 'destroy', 'only', 'hospital', 'st', 'croix', 'function', 'need', 'supply', 'desperately']\n",
      "['say', 'west', 'side', 'haiti', 'rest', 'country', 'today', 'tonight']\n",
      "['information', 'national', 'palace']\n",
      "['storm', 'sacred', 'heart', 'jesus']\n",
      "['please', 'need', 'tent', 'water', 'we', 'silo', 'thank']\n",
      "['i', 'would', 'like', 'receive', 'message', 'thank']\n",
      "['i', 'croix', 'de', 'bouquet', 'we', 'health', 'issue', 'they', 'worker', 'santo', '15', 'area', 'croix', 'de', 'bouquet']\n",
      "['there', 'nothing', 'eat', 'water', 'starve', 'thirsty']\n",
      "['i', 'petionville', 'i', 'need', 'information', 'regard', '4636']\n",
      "['i', 'thomassin', 'number', '32', 'area', 'name', 'pyron', 'i', 'would', 'like', 'water', 'thank', 'god', 'fine', 'desperately', 'need', 'water', 'thanks']\n",
      "['let', 'together', 'need', 'food', 'delma', '75', 'didine', 'area']\n",
      "['more', 'information', '4636', 'number', 'order', 'participate', 'to', 'see', 'i', 'use']\n",
      "['a', 'comitee', 'delmas', '19', 'rue', 'street', 'janvier', 'impasse', 'charite', '2', 'we', '500', 'people', 'temporary', 'shelter', 'dire', 'need', 'water', 'food', 'medication', 'tent', 'clothes', 'please', 'stop', 'see', 'u']\n",
      "['we', 'need', 'food', 'water', 'klecin', '12', 'we', 'die', 'hunger', 'impasse', 'chretien', 'klecin', '12', 'extend', 'extension', 'we', 'hungry', 'sick']\n",
      "['go', 'call', 'want', 'call', 'ou', 'let', 'know']\n",
      "['i', 'understand', 'use', 'thing', '4636']\n",
      "['i', 'would', 'like', 'know', 'earthquake', 'thanks']\n",
      "['i', 'would', 'like', 'know', 'one', 'radio', 'ginen', 'journalist', 'die']\n",
      "['i', 'laplaine', 'i', 'victim']\n",
      "['there', 'lack', 'water', 'moleya', 'please', 'inform']\n",
      "['those', 'people', 'live', 'sibert', 'need', 'food', 'hungry']\n",
      "['i', 'want', 'say', 'hello', 'message', 'let', 'know', 'area', 'faustin', 'anhy', 'street', 'nothing', 'neither', 'food', 'water', 'medicine']\n",
      "['can', 'tell', 'service']\n",
      "['people', 'i', 'delma', '2', 'anything', 'ever', 'please', 'provide', 'u', 'food', 'water', 'medicine']\n",
      "['we', 'gressier', 'need', 'assistance', 'right', 'away', 'asap', 'come', 'help', 'u']\n",
      "['how', 'get', 'water', 'food', 'fontamara', '43', 'cite', 'tinante']\n",
      "['we', 'need', 'help', 'carrefour', 'forget', 'completely', 'the', 'foul', 'odor', 'kill', 'u', 'just', 'let', 'know', 'thanks']\n"
     ]
    }
   ],
   "source": [
    "for message in X.iloc[0:30]:\n",
    "    print(tokenize(message))"
   ]
  },
  {
   "cell_type": "markdown",
   "metadata": {},
   "source": [
    "### 3. Build a machine learning pipeline\n",
    "This machine pipeline should take in the `message` column as input and output classification results on the other 36 categories in the dataset. You may find the [MultiOutputClassifier](http://scikit-learn.org/stable/modules/generated/sklearn.multioutput.MultiOutputClassifier.html) helpful for predicting multiple target variables."
   ]
  },
  {
   "cell_type": "code",
   "execution_count": 6,
   "metadata": {},
   "outputs": [],
   "source": [
    "pipeline = Pipeline([\n",
    "    ('vect', CountVectorizer(tokenizer=tokenize)),\n",
    "    ('tfidf_trans', TfidfTransformer()),\n",
    "    ('clf', MultiOutputClassifier(RandomForestClassifier(n_estimators=5)))\n",
    "])"
   ]
  },
  {
   "cell_type": "markdown",
   "metadata": {},
   "source": [
    "### 4. Train pipeline\n",
    "- Split data into train and test sets\n",
    "- Train pipeline"
   ]
  },
  {
   "cell_type": "code",
   "execution_count": 7,
   "metadata": {},
   "outputs": [
    {
     "data": {
      "text/plain": [
       "Pipeline(memory=None,\n",
       "     steps=[('vect', CountVectorizer(analyzer='word', binary=False, decode_error='strict',\n",
       "        dtype=<class 'numpy.int64'>, encoding='utf-8', input='content',\n",
       "        lowercase=True, max_df=1.0, max_features=None, min_df=1,\n",
       "        ngram_range=(1, 1), preprocessor=None, stop_words=None,\n",
       "        strip...oob_score=False, random_state=None, verbose=0,\n",
       "            warm_start=False),\n",
       "           n_jobs=1))])"
      ]
     },
     "execution_count": 7,
     "metadata": {},
     "output_type": "execute_result"
    }
   ],
   "source": [
    "X_train, X_test, y_train, y_test = train_test_split(X, Y)\n",
    "pipeline.fit(X_train, y_train)"
   ]
  },
  {
   "cell_type": "markdown",
   "metadata": {},
   "source": [
    "### 5. Test your model\n",
    "Report the f1 score, precision and recall for each output category of the dataset. You can do this by iterating through the columns and calling sklearn's `classification_report` on each."
   ]
  },
  {
   "cell_type": "code",
   "execution_count": 8,
   "metadata": {},
   "outputs": [],
   "source": [
    "y_pred = pipeline.predict(X_test)"
   ]
  },
  {
   "cell_type": "code",
   "execution_count": 9,
   "metadata": {},
   "outputs": [
    {
     "data": {
      "text/plain": [
       "0.94300342454141672"
      ]
     },
     "execution_count": 9,
     "metadata": {},
     "output_type": "execute_result"
    }
   ],
   "source": [
    "(y_pred == y_test).mean().mean()"
   ]
  },
  {
   "cell_type": "code",
   "execution_count": 10,
   "metadata": {},
   "outputs": [
    {
     "name": "stdout",
     "output_type": "stream",
     "text": [
      "related              precision    recall  f1-score   support\n",
      "\n",
      "          0       0.62      0.45      0.52      1540\n",
      "          1       0.84      0.91      0.87      4961\n",
      "          2       0.27      0.23      0.25        53\n",
      "\n",
      "avg / total       0.78      0.80      0.79      6554\n",
      "\n",
      "request              precision    recall  f1-score   support\n",
      "\n",
      "          0       0.90      0.96      0.93      5420\n",
      "          1       0.72      0.50      0.59      1134\n",
      "\n",
      "avg / total       0.87      0.88      0.87      6554\n",
      "\n",
      "offer              precision    recall  f1-score   support\n",
      "\n",
      "          0       1.00      1.00      1.00      6526\n",
      "          1       0.00      0.00      0.00        28\n",
      "\n",
      "avg / total       0.99      1.00      0.99      6554\n",
      "\n",
      "aid_related              precision    recall  f1-score   support\n",
      "\n",
      "          0       0.75      0.79      0.77      3811\n",
      "          1       0.69      0.63      0.66      2743\n",
      "\n",
      "avg / total       0.72      0.72      0.72      6554\n",
      "\n",
      "medical_help              precision    recall  f1-score   support\n",
      "\n",
      "          0       0.93      0.99      0.96      6021\n",
      "          1       0.51      0.15      0.23       533\n",
      "\n",
      "avg / total       0.90      0.92      0.90      6554\n",
      "\n",
      "medical_products              precision    recall  f1-score   support\n",
      "\n",
      "          0       0.96      1.00      0.98      6234\n",
      "          1       0.63      0.13      0.21       320\n",
      "\n",
      "avg / total       0.94      0.95      0.94      6554\n",
      "\n",
      "search_and_rescue              precision    recall  f1-score   support\n",
      "\n",
      "          0       0.97      1.00      0.98      6361\n",
      "          1       0.47      0.08      0.14       193\n",
      "\n",
      "avg / total       0.96      0.97      0.96      6554\n",
      "\n",
      "security              precision    recall  f1-score   support\n",
      "\n",
      "          0       0.98      1.00      0.99      6432\n",
      "          1       0.11      0.01      0.02       122\n",
      "\n",
      "avg / total       0.97      0.98      0.97      6554\n",
      "\n",
      "military              precision    recall  f1-score   support\n",
      "\n",
      "          0       0.97      0.99      0.98      6328\n",
      "          1       0.49      0.15      0.24       226\n",
      "\n",
      "avg / total       0.95      0.97      0.96      6554\n",
      "\n",
      "child_alone              precision    recall  f1-score   support\n",
      "\n",
      "          0       1.00      1.00      1.00      6554\n",
      "\n",
      "avg / total       1.00      1.00      1.00      6554\n",
      "\n",
      "water              precision    recall  f1-score   support\n",
      "\n",
      "          0       0.96      0.99      0.98      6154\n",
      "          1       0.73      0.39      0.51       400\n",
      "\n",
      "avg / total       0.95      0.95      0.95      6554\n",
      "\n",
      "food              precision    recall  f1-score   support\n",
      "\n",
      "          0       0.95      0.98      0.97      5830\n",
      "          1       0.77      0.61      0.68       724\n",
      "\n",
      "avg / total       0.93      0.94      0.93      6554\n",
      "\n",
      "shelter              precision    recall  f1-score   support\n",
      "\n",
      "          0       0.95      0.98      0.97      5984\n",
      "          1       0.72      0.42      0.53       570\n",
      "\n",
      "avg / total       0.93      0.94      0.93      6554\n",
      "\n",
      "clothing              precision    recall  f1-score   support\n",
      "\n",
      "          0       0.99      1.00      0.99      6453\n",
      "          1       0.85      0.23      0.36       101\n",
      "\n",
      "avg / total       0.99      0.99      0.98      6554\n",
      "\n",
      "money              precision    recall  f1-score   support\n",
      "\n",
      "          0       0.98      1.00      0.99      6405\n",
      "          1       0.65      0.10      0.17       149\n",
      "\n",
      "avg / total       0.97      0.98      0.97      6554\n",
      "\n",
      "missing_people              precision    recall  f1-score   support\n",
      "\n",
      "          0       0.99      1.00      0.99      6483\n",
      "          1       0.00      0.00      0.00        71\n",
      "\n",
      "avg / total       0.98      0.99      0.98      6554\n",
      "\n",
      "refugees              precision    recall  f1-score   support\n",
      "\n",
      "          0       0.97      1.00      0.98      6341\n",
      "          1       0.60      0.13      0.22       213\n",
      "\n",
      "avg / total       0.96      0.97      0.96      6554\n",
      "\n",
      "death              precision    recall  f1-score   support\n",
      "\n",
      "          0       0.97      1.00      0.98      6262\n",
      "          1       0.72      0.27      0.39       292\n",
      "\n",
      "avg / total       0.96      0.96      0.95      6554\n",
      "\n",
      "other_aid              precision    recall  f1-score   support\n",
      "\n",
      "          0       0.87      0.98      0.92      5641\n",
      "          1       0.39      0.09      0.14       913\n",
      "\n",
      "avg / total       0.80      0.85      0.81      6554\n",
      "\n",
      "infrastructure_related              precision    recall  f1-score   support\n",
      "\n",
      "          0       0.94      0.99      0.97      6182\n",
      "          1       0.18      0.03      0.05       372\n",
      "\n",
      "avg / total       0.90      0.94      0.92      6554\n",
      "\n",
      "transport              precision    recall  f1-score   support\n",
      "\n",
      "          0       0.96      0.99      0.98      6249\n",
      "          1       0.48      0.14      0.21       305\n",
      "\n",
      "avg / total       0.94      0.95      0.94      6554\n",
      "\n",
      "buildings              precision    recall  f1-score   support\n",
      "\n",
      "          0       0.96      0.99      0.98      6240\n",
      "          1       0.55      0.15      0.24       314\n",
      "\n",
      "avg / total       0.94      0.95      0.94      6554\n",
      "\n",
      "electricity              precision    recall  f1-score   support\n",
      "\n",
      "          0       0.98      1.00      0.99      6437\n",
      "          1       0.46      0.09      0.16       117\n",
      "\n",
      "avg / total       0.97      0.98      0.98      6554\n",
      "\n",
      "tools              precision    recall  f1-score   support\n",
      "\n",
      "          0       0.99      1.00      1.00      6519\n",
      "          1       0.00      0.00      0.00        35\n",
      "\n",
      "avg / total       0.99      0.99      0.99      6554\n",
      "\n",
      "hospitals              precision    recall  f1-score   support\n",
      "\n",
      "          0       0.99      1.00      1.00      6493\n",
      "          1       0.00      0.00      0.00        61\n",
      "\n",
      "avg / total       0.98      0.99      0.99      6554\n",
      "\n",
      "shops              precision    recall  f1-score   support\n",
      "\n",
      "          0       1.00      1.00      1.00      6529\n",
      "          1       0.00      0.00      0.00        25\n",
      "\n",
      "avg / total       0.99      1.00      0.99      6554\n",
      "\n",
      "aid_centers              precision    recall  f1-score   support\n",
      "\n",
      "          0       0.99      1.00      0.99      6487\n",
      "          1       0.00      0.00      0.00        67\n",
      "\n",
      "avg / total       0.98      0.99      0.98      6554\n",
      "\n",
      "other_infrastructure              precision    recall  f1-score   support\n",
      "\n",
      "          0       0.96      0.99      0.98      6301\n",
      "          1       0.11      0.02      0.03       253\n",
      "\n",
      "avg / total       0.93      0.96      0.94      6554\n",
      "\n",
      "weather_related              precision    recall  f1-score   support\n",
      "\n",
      "          0       0.88      0.94      0.91      4789\n",
      "          1       0.79      0.64      0.71      1765\n",
      "\n",
      "avg / total       0.85      0.86      0.85      6554\n",
      "\n",
      "floods              precision    recall  f1-score   support\n",
      "\n",
      "          0       0.95      0.99      0.97      6031\n",
      "          1       0.78      0.44      0.56       523\n",
      "\n",
      "avg / total       0.94      0.94      0.94      6554\n",
      "\n",
      "storm              precision    recall  f1-score   support\n",
      "\n",
      "          0       0.94      0.98      0.96      5973\n",
      "          1       0.67      0.41      0.51       581\n",
      "\n",
      "avg / total       0.92      0.93      0.92      6554\n",
      "\n",
      "fire              precision    recall  f1-score   support\n",
      "\n",
      "          0       0.99      1.00      1.00      6493\n",
      "          1       0.25      0.02      0.03        61\n",
      "\n",
      "avg / total       0.98      0.99      0.99      6554\n",
      "\n",
      "earthquake              precision    recall  f1-score   support\n",
      "\n",
      "          0       0.97      0.98      0.98      5923\n",
      "          1       0.83      0.71      0.77       631\n",
      "\n",
      "avg / total       0.96      0.96      0.96      6554\n",
      "\n",
      "cold              precision    recall  f1-score   support\n",
      "\n",
      "          0       0.98      1.00      0.99      6421\n",
      "          1       0.66      0.19      0.29       133\n",
      "\n",
      "avg / total       0.98      0.98      0.98      6554\n",
      "\n",
      "other_weather              precision    recall  f1-score   support\n",
      "\n",
      "          0       0.95      0.99      0.97      6231\n",
      "          1       0.35      0.06      0.11       323\n",
      "\n",
      "avg / total       0.92      0.95      0.93      6554\n",
      "\n",
      "direct_report              precision    recall  f1-score   support\n",
      "\n",
      "          0       0.86      0.94      0.90      5294\n",
      "          1       0.60      0.38      0.46      1260\n",
      "\n",
      "avg / total       0.81      0.83      0.82      6554\n",
      "\n"
     ]
    },
    {
     "name": "stderr",
     "output_type": "stream",
     "text": [
      "/opt/conda/lib/python3.6/site-packages/sklearn/metrics/classification.py:1135: UndefinedMetricWarning: Precision and F-score are ill-defined and being set to 0.0 in labels with no predicted samples.\n",
      "  'precision', 'predicted', average, warn_for)\n"
     ]
    }
   ],
   "source": [
    "for i, class_ in enumerate(y_test.columns):\n",
    "    print(class_, classification_report(y_test.loc[:, class_].values, y_pred[:, i]))"
   ]
  },
  {
   "cell_type": "code",
   "execution_count": 11,
   "metadata": {},
   "outputs": [
    {
     "data": {
      "text/plain": [
       "{'memory': None,\n",
       " 'steps': [('vect',\n",
       "   CountVectorizer(analyzer='word', binary=False, decode_error='strict',\n",
       "           dtype=<class 'numpy.int64'>, encoding='utf-8', input='content',\n",
       "           lowercase=True, max_df=1.0, max_features=None, min_df=1,\n",
       "           ngram_range=(1, 1), preprocessor=None, stop_words=None,\n",
       "           strip_accents=None, token_pattern='(?u)\\\\b\\\\w\\\\w+\\\\b',\n",
       "           tokenizer=<function tokenize at 0x7fd0ed26bf28>, vocabulary=None)),\n",
       "  ('tfidf_trans',\n",
       "   TfidfTransformer(norm='l2', smooth_idf=True, sublinear_tf=False, use_idf=True)),\n",
       "  ('clf',\n",
       "   MultiOutputClassifier(estimator=RandomForestClassifier(bootstrap=True, class_weight=None, criterion='gini',\n",
       "               max_depth=None, max_features='auto', max_leaf_nodes=None,\n",
       "               min_impurity_decrease=0.0, min_impurity_split=None,\n",
       "               min_samples_leaf=1, min_samples_split=2,\n",
       "               min_weight_fraction_leaf=0.0, n_estimators=5, n_jobs=1,\n",
       "               oob_score=False, random_state=None, verbose=0,\n",
       "               warm_start=False),\n",
       "              n_jobs=1))],\n",
       " 'vect': CountVectorizer(analyzer='word', binary=False, decode_error='strict',\n",
       "         dtype=<class 'numpy.int64'>, encoding='utf-8', input='content',\n",
       "         lowercase=True, max_df=1.0, max_features=None, min_df=1,\n",
       "         ngram_range=(1, 1), preprocessor=None, stop_words=None,\n",
       "         strip_accents=None, token_pattern='(?u)\\\\b\\\\w\\\\w+\\\\b',\n",
       "         tokenizer=<function tokenize at 0x7fd0ed26bf28>, vocabulary=None),\n",
       " 'tfidf_trans': TfidfTransformer(norm='l2', smooth_idf=True, sublinear_tf=False, use_idf=True),\n",
       " 'clf': MultiOutputClassifier(estimator=RandomForestClassifier(bootstrap=True, class_weight=None, criterion='gini',\n",
       "             max_depth=None, max_features='auto', max_leaf_nodes=None,\n",
       "             min_impurity_decrease=0.0, min_impurity_split=None,\n",
       "             min_samples_leaf=1, min_samples_split=2,\n",
       "             min_weight_fraction_leaf=0.0, n_estimators=5, n_jobs=1,\n",
       "             oob_score=False, random_state=None, verbose=0,\n",
       "             warm_start=False),\n",
       "            n_jobs=1),\n",
       " 'vect__analyzer': 'word',\n",
       " 'vect__binary': False,\n",
       " 'vect__decode_error': 'strict',\n",
       " 'vect__dtype': numpy.int64,\n",
       " 'vect__encoding': 'utf-8',\n",
       " 'vect__input': 'content',\n",
       " 'vect__lowercase': True,\n",
       " 'vect__max_df': 1.0,\n",
       " 'vect__max_features': None,\n",
       " 'vect__min_df': 1,\n",
       " 'vect__ngram_range': (1, 1),\n",
       " 'vect__preprocessor': None,\n",
       " 'vect__stop_words': None,\n",
       " 'vect__strip_accents': None,\n",
       " 'vect__token_pattern': '(?u)\\\\b\\\\w\\\\w+\\\\b',\n",
       " 'vect__tokenizer': <function __main__.tokenize(text)>,\n",
       " 'vect__vocabulary': None,\n",
       " 'tfidf_trans__norm': 'l2',\n",
       " 'tfidf_trans__smooth_idf': True,\n",
       " 'tfidf_trans__sublinear_tf': False,\n",
       " 'tfidf_trans__use_idf': True,\n",
       " 'clf__estimator__bootstrap': True,\n",
       " 'clf__estimator__class_weight': None,\n",
       " 'clf__estimator__criterion': 'gini',\n",
       " 'clf__estimator__max_depth': None,\n",
       " 'clf__estimator__max_features': 'auto',\n",
       " 'clf__estimator__max_leaf_nodes': None,\n",
       " 'clf__estimator__min_impurity_decrease': 0.0,\n",
       " 'clf__estimator__min_impurity_split': None,\n",
       " 'clf__estimator__min_samples_leaf': 1,\n",
       " 'clf__estimator__min_samples_split': 2,\n",
       " 'clf__estimator__min_weight_fraction_leaf': 0.0,\n",
       " 'clf__estimator__n_estimators': 5,\n",
       " 'clf__estimator__n_jobs': 1,\n",
       " 'clf__estimator__oob_score': False,\n",
       " 'clf__estimator__random_state': None,\n",
       " 'clf__estimator__verbose': 0,\n",
       " 'clf__estimator__warm_start': False,\n",
       " 'clf__estimator': RandomForestClassifier(bootstrap=True, class_weight=None, criterion='gini',\n",
       "             max_depth=None, max_features='auto', max_leaf_nodes=None,\n",
       "             min_impurity_decrease=0.0, min_impurity_split=None,\n",
       "             min_samples_leaf=1, min_samples_split=2,\n",
       "             min_weight_fraction_leaf=0.0, n_estimators=5, n_jobs=1,\n",
       "             oob_score=False, random_state=None, verbose=0,\n",
       "             warm_start=False),\n",
       " 'clf__n_jobs': 1}"
      ]
     },
     "execution_count": 11,
     "metadata": {},
     "output_type": "execute_result"
    }
   ],
   "source": [
    "pipeline.get_params()"
   ]
  },
  {
   "cell_type": "markdown",
   "metadata": {},
   "source": [
    "### 6. Improve your model\n",
    "Use grid search to find better parameters. "
   ]
  },
  {
   "cell_type": "code",
   "execution_count": 12,
   "metadata": {},
   "outputs": [],
   "source": [
    "parameters = {\n",
    "    'clf__estimator__min_samples_split':[2, 5]\n",
    "}\n",
    "\n",
    "cv = GridSearchCV(pipeline, param_grid=parameters, cv=5, n_jobs=-1)"
   ]
  },
  {
   "cell_type": "code",
   "execution_count": 13,
   "metadata": {},
   "outputs": [
    {
     "data": {
      "text/plain": [
       "GridSearchCV(cv=5, error_score='raise',\n",
       "       estimator=Pipeline(memory=None,\n",
       "     steps=[('vect', CountVectorizer(analyzer='word', binary=False, decode_error='strict',\n",
       "        dtype=<class 'numpy.int64'>, encoding='utf-8', input='content',\n",
       "        lowercase=True, max_df=1.0, max_features=None, min_df=1,\n",
       "        ngram_range=(1, 1), preprocessor=None, stop_words=None,\n",
       "        strip...oob_score=False, random_state=None, verbose=0,\n",
       "            warm_start=False),\n",
       "           n_jobs=1))]),\n",
       "       fit_params=None, iid=True, n_jobs=-1,\n",
       "       param_grid={'clf__estimator__min_samples_split': [2, 5]},\n",
       "       pre_dispatch='2*n_jobs', refit=True, return_train_score='warn',\n",
       "       scoring=None, verbose=0)"
      ]
     },
     "execution_count": 13,
     "metadata": {},
     "output_type": "execute_result"
    }
   ],
   "source": [
    "cv.fit(X_train, y_train)"
   ]
  },
  {
   "cell_type": "code",
   "execution_count": 14,
   "metadata": {},
   "outputs": [
    {
     "data": {
      "text/plain": [
       "0.94400366188587137"
      ]
     },
     "execution_count": 14,
     "metadata": {},
     "output_type": "execute_result"
    }
   ],
   "source": [
    "y_pred_cv = cv.predict(X_test)\n",
    "(y_pred_cv == y_test).mean().mean()"
   ]
  },
  {
   "cell_type": "code",
   "execution_count": 19,
   "metadata": {},
   "outputs": [
    {
     "data": {
      "text/plain": [
       "{'clf__estimator__min_samples_split': 5}"
      ]
     },
     "execution_count": 19,
     "metadata": {},
     "output_type": "execute_result"
    }
   ],
   "source": [
    "cv.best_params_"
   ]
  },
  {
   "cell_type": "markdown",
   "metadata": {},
   "source": [
    "### 7. Test your model\n",
    "Show the accuracy, precision, and recall of the tuned model.  \n",
    "\n",
    "Since this project focuses on code quality, process, and  pipelines, there is no minimum performance metric needed to pass. However, make sure to fine tune your models for accuracy, precision and recall to make your project stand out - especially for your portfolio!"
   ]
  },
  {
   "cell_type": "code",
   "execution_count": 15,
   "metadata": {},
   "outputs": [
    {
     "name": "stdout",
     "output_type": "stream",
     "text": [
      "related              precision    recall  f1-score   support\n",
      "\n",
      "          0       0.62      0.41      0.49      1540\n",
      "          1       0.83      0.92      0.87      4961\n",
      "          2       0.58      0.13      0.22        53\n",
      "\n",
      "avg / total       0.78      0.80      0.78      6554\n",
      "\n",
      "request              precision    recall  f1-score   support\n",
      "\n",
      "          0       0.90      0.96      0.93      5420\n",
      "          1       0.73      0.50      0.60      1134\n",
      "\n",
      "avg / total       0.87      0.88      0.87      6554\n",
      "\n",
      "offer              precision    recall  f1-score   support\n",
      "\n",
      "          0       1.00      1.00      1.00      6526\n",
      "          1       0.00      0.00      0.00        28\n",
      "\n",
      "avg / total       0.99      1.00      0.99      6554\n",
      "\n",
      "aid_related              precision    recall  f1-score   support\n",
      "\n",
      "          0       0.77      0.80      0.78      3811\n",
      "          1       0.70      0.66      0.68      2743\n",
      "\n",
      "avg / total       0.74      0.74      0.74      6554\n",
      "\n",
      "medical_help              precision    recall  f1-score   support\n",
      "\n",
      "          0       0.93      0.99      0.96      6021\n",
      "          1       0.53      0.14      0.23       533\n",
      "\n",
      "avg / total       0.90      0.92      0.90      6554\n",
      "\n",
      "medical_products              precision    recall  f1-score   support\n",
      "\n",
      "          0       0.96      1.00      0.98      6234\n",
      "          1       0.63      0.16      0.26       320\n",
      "\n",
      "avg / total       0.94      0.95      0.94      6554\n",
      "\n",
      "search_and_rescue              precision    recall  f1-score   support\n",
      "\n",
      "          0       0.97      1.00      0.99      6361\n",
      "          1       0.56      0.08      0.14       193\n",
      "\n",
      "avg / total       0.96      0.97      0.96      6554\n",
      "\n",
      "security              precision    recall  f1-score   support\n",
      "\n",
      "          0       0.98      1.00      0.99      6432\n",
      "          1       0.00      0.00      0.00       122\n",
      "\n",
      "avg / total       0.96      0.98      0.97      6554\n",
      "\n",
      "military              precision    recall  f1-score   support\n",
      "\n",
      "          0       0.97      1.00      0.98      6328\n",
      "          1       0.56      0.15      0.24       226\n",
      "\n",
      "avg / total       0.96      0.97      0.96      6554\n",
      "\n",
      "child_alone              precision    recall  f1-score   support\n",
      "\n",
      "          0       1.00      1.00      1.00      6554\n",
      "\n",
      "avg / total       1.00      1.00      1.00      6554\n",
      "\n",
      "water              precision    recall  f1-score   support\n",
      "\n",
      "          0       0.96      0.99      0.98      6154\n",
      "          1       0.75      0.37      0.50       400\n",
      "\n",
      "avg / total       0.95      0.95      0.95      6554\n",
      "\n",
      "food              precision    recall  f1-score   support\n",
      "\n",
      "          0       0.94      0.98      0.96      5830\n",
      "          1       0.79      0.49      0.60       724\n",
      "\n",
      "avg / total       0.92      0.93      0.92      6554\n",
      "\n",
      "shelter              precision    recall  f1-score   support\n",
      "\n",
      "          0       0.95      0.99      0.97      5984\n",
      "          1       0.76      0.43      0.55       570\n",
      "\n",
      "avg / total       0.93      0.94      0.93      6554\n",
      "\n",
      "clothing              precision    recall  f1-score   support\n",
      "\n",
      "          0       0.99      1.00      0.99      6453\n",
      "          1       0.82      0.14      0.24       101\n",
      "\n",
      "avg / total       0.98      0.99      0.98      6554\n",
      "\n",
      "money              precision    recall  f1-score   support\n",
      "\n",
      "          0       0.98      1.00      0.99      6405\n",
      "          1       0.47      0.05      0.09       149\n",
      "\n",
      "avg / total       0.97      0.98      0.97      6554\n",
      "\n",
      "missing_people              precision    recall  f1-score   support\n",
      "\n",
      "          0       0.99      1.00      0.99      6483\n",
      "          1       0.33      0.01      0.03        71\n",
      "\n",
      "avg / total       0.98      0.99      0.98      6554\n",
      "\n",
      "refugees              precision    recall  f1-score   support\n",
      "\n",
      "          0       0.97      1.00      0.98      6341\n",
      "          1       0.71      0.10      0.18       213\n",
      "\n",
      "avg / total       0.96      0.97      0.96      6554\n",
      "\n",
      "death              precision    recall  f1-score   support\n",
      "\n",
      "          0       0.97      0.99      0.98      6262\n",
      "          1       0.66      0.25      0.36       292\n",
      "\n",
      "avg / total       0.95      0.96      0.95      6554\n",
      "\n",
      "other_aid              precision    recall  f1-score   support\n",
      "\n",
      "          0       0.87      0.98      0.92      5641\n",
      "          1       0.40      0.09      0.15       913\n",
      "\n",
      "avg / total       0.80      0.85      0.81      6554\n",
      "\n",
      "infrastructure_related              precision    recall  f1-score   support\n",
      "\n",
      "          0       0.94      0.99      0.97      6182\n",
      "          1       0.24      0.03      0.05       372\n",
      "\n",
      "avg / total       0.90      0.94      0.92      6554\n",
      "\n",
      "transport              precision    recall  f1-score   support\n",
      "\n",
      "          0       0.96      0.99      0.97      6249\n",
      "          1       0.36      0.06      0.11       305\n",
      "\n",
      "avg / total       0.93      0.95      0.93      6554\n",
      "\n",
      "buildings              precision    recall  f1-score   support\n",
      "\n",
      "          0       0.96      0.99      0.98      6240\n",
      "          1       0.58      0.14      0.23       314\n",
      "\n",
      "avg / total       0.94      0.95      0.94      6554\n",
      "\n",
      "electricity              precision    recall  f1-score   support\n",
      "\n",
      "          0       0.98      1.00      0.99      6437\n",
      "          1       0.45      0.12      0.19       117\n",
      "\n",
      "avg / total       0.97      0.98      0.98      6554\n",
      "\n",
      "tools              precision    recall  f1-score   support\n",
      "\n",
      "          0       0.99      1.00      1.00      6519\n",
      "          1       0.00      0.00      0.00        35\n",
      "\n",
      "avg / total       0.99      0.99      0.99      6554\n",
      "\n",
      "hospitals              precision    recall  f1-score   support\n",
      "\n",
      "          0       0.99      1.00      1.00      6493\n",
      "          1       0.00      0.00      0.00        61\n",
      "\n",
      "avg / total       0.98      0.99      0.99      6554\n",
      "\n",
      "shops              precision    recall  f1-score   support\n",
      "\n",
      "          0       1.00      1.00      1.00      6529\n",
      "          1       1.00      0.04      0.08        25\n",
      "\n",
      "avg / total       1.00      1.00      0.99      6554\n",
      "\n",
      "aid_centers              precision    recall  f1-score   support\n",
      "\n",
      "          0       0.99      1.00      0.99      6487\n",
      "          1       0.00      0.00      0.00        67\n",
      "\n",
      "avg / total       0.98      0.99      0.98      6554\n",
      "\n",
      "other_infrastructure              precision    recall  f1-score   support\n",
      "\n",
      "          0       0.96      1.00      0.98      6301\n",
      "          1       0.13      0.02      0.03       253\n",
      "\n",
      "avg / total       0.93      0.96      0.94      6554\n",
      "\n",
      "weather_related              precision    recall  f1-score   support\n",
      "\n",
      "          0       0.88      0.93      0.90      4789\n",
      "          1       0.77      0.65      0.71      1765\n",
      "\n",
      "avg / total       0.85      0.85      0.85      6554\n",
      "\n",
      "floods              precision    recall  f1-score   support\n",
      "\n",
      "          0       0.96      0.99      0.98      6031\n",
      "          1       0.82      0.53      0.65       523\n",
      "\n",
      "avg / total       0.95      0.95      0.95      6554\n",
      "\n",
      "storm              precision    recall  f1-score   support\n",
      "\n",
      "          0       0.94      0.98      0.96      5973\n",
      "          1       0.69      0.37      0.48       581\n",
      "\n",
      "avg / total       0.92      0.93      0.92      6554\n",
      "\n",
      "fire              precision    recall  f1-score   support\n",
      "\n",
      "          0       0.99      1.00      1.00      6493\n",
      "          1       0.00      0.00      0.00        61\n",
      "\n",
      "avg / total       0.98      0.99      0.99      6554\n",
      "\n",
      "earthquake              precision    recall  f1-score   support\n",
      "\n",
      "          0       0.98      0.99      0.98      5923\n",
      "          1       0.87      0.77      0.82       631\n",
      "\n",
      "avg / total       0.97      0.97      0.97      6554\n",
      "\n",
      "cold              precision    recall  f1-score   support\n",
      "\n",
      "          0       0.98      1.00      0.99      6421\n",
      "          1       0.71      0.18      0.29       133\n",
      "\n",
      "avg / total       0.98      0.98      0.98      6554\n",
      "\n",
      "other_weather              precision    recall  f1-score   support\n",
      "\n",
      "          0       0.95      0.99      0.97      6231\n",
      "          1       0.26      0.03      0.06       323\n",
      "\n",
      "avg / total       0.92      0.95      0.93      6554\n",
      "\n",
      "direct_report              precision    recall  f1-score   support\n",
      "\n",
      "          0       0.87      0.95      0.91      5294\n",
      "          1       0.64      0.38      0.48      1260\n",
      "\n",
      "avg / total       0.82      0.84      0.82      6554\n",
      "\n"
     ]
    },
    {
     "name": "stderr",
     "output_type": "stream",
     "text": [
      "/opt/conda/lib/python3.6/site-packages/sklearn/metrics/classification.py:1135: UndefinedMetricWarning: Precision and F-score are ill-defined and being set to 0.0 in labels with no predicted samples.\n",
      "  'precision', 'predicted', average, warn_for)\n"
     ]
    }
   ],
   "source": [
    "for i, class_ in enumerate(y_test.columns):\n",
    "    print(class_, classification_report(y_test.loc[:, class_].values, y_pred_cv[:, i]))"
   ]
  },
  {
   "cell_type": "markdown",
   "metadata": {},
   "source": [
    "### 8. Try improving your model further. Here are a few ideas:\n",
    "* try other machine learning algorithms\n",
    "* add other features besides the TF-IDF"
   ]
  },
  {
   "cell_type": "code",
   "execution_count": null,
   "metadata": {},
   "outputs": [],
   "source": [
    "for sentence in nltk.sent_tokenize(X_train.iloc[0:]):\n",
    "    print(sentence)\n",
    "    print(nltk.pos_tag(tokenize(sentence)))"
   ]
  },
  {
   "cell_type": "code",
   "execution_count": 69,
   "metadata": {},
   "outputs": [],
   "source": [
    "test = nltk.pos_tag(tokenize(X_train.iloc[29]))"
   ]
  },
  {
   "cell_type": "code",
   "execution_count": 98,
   "metadata": {},
   "outputs": [],
   "source": [
    "def model_pipeline():\n",
    "    '''Build model pipelne\n",
    "    \n",
    "       returns:\n",
    "           pipeline -  a Pipeline object that can be fit to the data\n",
    "    '''\n",
    "    pipeline = Pipeline([\n",
    "        ('vect', CountVectorizer(tokenizer=tokenize)),\n",
    "        ('tfidf_trans', TfidfTransformer()),\n",
    "        ('clf', MultiOutputClassifier(KNeighborsClassifier()))\n",
    "    ])\n",
    "    return pipeline"
   ]
  },
  {
   "cell_type": "code",
   "execution_count": 99,
   "metadata": {},
   "outputs": [
    {
     "data": {
      "text/plain": [
       "Pipeline(memory=None,\n",
       "     steps=[('vect', CountVectorizer(analyzer='word', binary=False, decode_error='strict',\n",
       "        dtype=<class 'numpy.int64'>, encoding='utf-8', input='content',\n",
       "        lowercase=True, max_df=1.0, max_features=None, min_df=1,\n",
       "        ngram_range=(1, 1), preprocessor=None, stop_words=None,\n",
       "        strip...ric_params=None, n_jobs=1, n_neighbors=5, p=2,\n",
       "           weights='uniform'),\n",
       "           n_jobs=1))])"
      ]
     },
     "execution_count": 99,
     "metadata": {},
     "output_type": "execute_result"
    }
   ],
   "source": [
    "improved_pipeline = model_pipeline()\n",
    "improved_pipeline.fit(X_train, y_train)"
   ]
  },
  {
   "cell_type": "code",
   "execution_count": 100,
   "metadata": {},
   "outputs": [],
   "source": [
    "y_pred_ip = improved_pipeline.predict(X_test)"
   ]
  },
  {
   "cell_type": "code",
   "execution_count": 101,
   "metadata": {},
   "outputs": [
    {
     "data": {
      "text/plain": [
       "0.93416658190079027"
      ]
     },
     "execution_count": 101,
     "metadata": {},
     "output_type": "execute_result"
    }
   ],
   "source": [
    "(y_pred_ip == y_test).mean().mean()"
   ]
  },
  {
   "cell_type": "markdown",
   "metadata": {},
   "source": [
    "The two models are about the same, I'll go with the random forest. If I had more time, I would have tried to make more features than just the Tfidf. Probably word counts, number of capital letters are a couple of ideas I would have liked to have tried."
   ]
  },
  {
   "cell_type": "markdown",
   "metadata": {},
   "source": [
    "### 9. Export your model as a pickle file"
   ]
  },
  {
   "cell_type": "code",
   "execution_count": 104,
   "metadata": {},
   "outputs": [],
   "source": [
    "filename = 'rand_for_class.sav'\n",
    "pickle.dump(pipeline, open(filename, 'wb'))"
   ]
  },
  {
   "cell_type": "markdown",
   "metadata": {},
   "source": [
    "### 10. Use this notebook to complete `train.py`\n",
    "Use the template file attached in the Resources folder to write a script that runs the steps above to create a database and export a model based on a new dataset specified by the user."
   ]
  },
  {
   "cell_type": "code",
   "execution_count": null,
   "metadata": {},
   "outputs": [],
   "source": []
  }
 ],
 "metadata": {
  "kernelspec": {
   "display_name": "Python 3",
   "language": "python",
   "name": "python3"
  },
  "language_info": {
   "codemirror_mode": {
    "name": "ipython",
    "version": 3
   },
   "file_extension": ".py",
   "mimetype": "text/x-python",
   "name": "python",
   "nbconvert_exporter": "python",
   "pygments_lexer": "ipython3",
   "version": "3.6.3"
  }
 },
 "nbformat": 4,
 "nbformat_minor": 2
}
